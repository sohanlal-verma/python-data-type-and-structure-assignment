{
  "cells": [
    {
      "cell_type": "markdown",
      "id": "1b522ef9",
      "metadata": {
        "id": "1b522ef9"
      },
      "source": [
        "# 🧠 Python Data Structures – Theory Answers"
      ]
    },
    {
      "cell_type": "markdown",
      "id": "e769f4ba",
      "metadata": {
        "id": "e769f4ba"
      },
      "source": [
        "### 1.  What are data structures, and why are they important?\n",
        "- Data structures are ways to store and organize data efficiently. They're important for efficient data processing, better algorithm performance, and code clarity."
      ]
    },
    {
      "cell_type": "markdown",
      "id": "709c4709",
      "metadata": {
        "id": "709c4709"
      },
      "source": [
        "### 2. Explain the difference between mutable and immutable data types with examples\n",
        "- **Mutable** types (e.g., lists, dicts) can be changed after creation.\n",
        "\n",
        "```python\n",
        "     my_list = [1, 2]; my_list[0] = 10\n",
        "```\n",
        "\n",
        "- **Immutable** types (e.g., strings, tuples) cannot be changed.\n",
        "\n",
        "```python\n",
        "     my_str = 'hello'; my_str[0] = 'H'  # Error\n",
        "```"
      ]
    },
    {
      "cell_type": "markdown",
      "id": "3103a286",
      "metadata": {
        "id": "3103a286"
      },
      "source": [
        "### 3. What are the main differences between lists and tuples in Python?\n",
        "| Feature | List | Tuple |\n",
        "|---------|------|--------|\n",
        "| Mutable | Yes | No |\n",
        "| Syntax | [1, 2] | (1, 2) |\n",
        "| Performance | Slower | Faster |\n",
        "| Use Case | Dynamic data | Fixed data |"
      ]
    },
    {
      "cell_type": "markdown",
      "id": "643a233a",
      "metadata": {
        "id": "643a233a"
      },
      "source": [
        "###4. Describe how dictionaries store data\n",
        "- Dictionaries store data as key-value pairs using a hash table for fast lookup."
      ]
    },
    {
      "cell_type": "markdown",
      "id": "3766edef",
      "metadata": {
        "id": "3766edef"
      },
      "source": [
        "### 5. Why might you use a set instead of a list in Python?\n",
        "- Sets store **unique** values and offer faster lookup times than lists."
      ]
    },
    {
      "cell_type": "markdown",
      "id": "ad459db0",
      "metadata": {
        "id": "ad459db0"
      },
      "source": [
        "### 6. What is a string in Python, and how is it different from a list?\n",
        "- A string is an immutable sequence of characters. A list is a mutable collection that can contain any data type."
      ]
    },
    {
      "cell_type": "markdown",
      "id": "f1e96160",
      "metadata": {
        "id": "f1e96160"
      },
      "source": [
        "### 7. How do tuples ensure data integrity in Python?\n",
        "- Tuples are immutable, preventing accidental changes and ensuring the data remains constant."
      ]
    },
    {
      "cell_type": "markdown",
      "id": "743f9524",
      "metadata": {
        "id": "743f9524"
      },
      "source": [
        "### 8. What is a hash table, and how does it relate to dictionaries in Python?\n",
        "- A hash table maps keys to values using a hash function. Python dictionaries use hash tables internally."
      ]
    },
    {
      "cell_type": "markdown",
      "id": "fe3a4ff7",
      "metadata": {
        "id": "fe3a4ff7"
      },
      "source": [
        "### 9. Can lists contain different data types in Python?\n",
        "- Yes. Lists in Python can store heterogeneous data.\n",
        "```python\n",
        "my_list = [1, 'hello', 3.14]\n",
        "```"
      ]
    },
    {
      "cell_type": "markdown",
      "id": "b9e98a0a",
      "metadata": {
        "id": "b9e98a0a"
      },
      "source": [
        "### 10. Explain why strings are immutable in Python?\n",
        "- Immutability offers security, allows for memory optimization (interning), and prevents unintended side effects."
      ]
    },
    {
      "cell_type": "markdown",
      "id": "8bb2d223",
      "metadata": {
        "id": "8bb2d223"
      },
      "source": [
        "### 11. What advantages do dictionaries offer over lists for certain tasks?\n",
        "- Dictionaries offer faster access (O(1) vs O(n)) and allow named access using keys instead of indices."
      ]
    },
    {
      "cell_type": "markdown",
      "id": "00dd1ef0",
      "metadata": {
        "id": "00dd1ef0"
      },
      "source": [
        "### 12. How do sets handle duplicate values in Python?\n",
        "- Sets automatically eliminate duplicates.\n",
        "```python\n",
        "set([1, 2, 2, 3])  # {1, 2, 3}\n",
        "```"
      ]
    },
    {
      "cell_type": "markdown",
      "id": "b4b0c9e2",
      "metadata": {
        "id": "b4b0c9e2"
      },
      "source": [
        "### 13. Describe a scenario where using a tuple would be preferable over a list?\n",
        "- When you want fixed, constant data or want to use it as a dictionary key (hashable)."
      ]
    },
    {
      "cell_type": "markdown",
      "id": "c2e18f3a",
      "metadata": {
        "id": "c2e18f3a"
      },
      "source": [
        "### 14. How does the “in” keyword work differently for lists and dictionaries?\n",
        "- `in` checks values in a list, and keys in a dictionary.\n",
        "```python\n",
        "'x' in [1, 'x']\n",
        "'x' in {'x': 1}\n",
        "```"
      ]
    },
    {
      "cell_type": "markdown",
      "id": "192b3ebe",
      "metadata": {
        "id": "192b3ebe"
      },
      "source": [
        "### 15. Can you modify the elements of a tuple? Explain why or why not?\n",
        "- No. Tuples are immutable. Once created, their elements cannot be modified."
      ]
    },
    {
      "cell_type": "markdown",
      "id": "0ba6a5d7",
      "metadata": {
        "id": "0ba6a5d7"
      },
      "source": [
        "### 16. What is a nested dictionary, and give an example of its use case?\n",
        "- A dictionary inside another dictionary.\n",
        "```python\n",
        "students = {'A1': {'name': 'Alice', 'age': 21}}\n",
        "```"
      ]
    },
    {
      "cell_type": "markdown",
      "id": "54d559e1",
      "metadata": {
        "id": "54d559e1"
      },
      "source": [
        "### 17. Describe the time complexity of accessing elements in a dictionary\n",
        "- **O(1)** average case due to hashing."
      ]
    },
    {
      "cell_type": "markdown",
      "id": "bfbe885b",
      "metadata": {
        "id": "bfbe885b"
      },
      "source": [
        "### 18. In what situations are lists preferred over dictionaries?\n",
        "- When order and positional indexing matter, or when storing simple sequences."
      ]
    },
    {
      "cell_type": "markdown",
      "id": "48e957a9",
      "metadata": {
        "id": "48e957a9"
      },
      "source": [
        "### 19. Why are dictionaries considered unordered, and how does that affect data retrieval?\n",
        "- Before Python 3.7, dictionaries didn’t preserve order. Now they do, but retrieval is still key-based, not index-based."
      ]
    },
    {
      "cell_type": "markdown",
      "id": "9461aba9",
      "metadata": {
        "id": "9461aba9"
      },
      "source": [
        "### 20. Explain the difference between a list and a dictionary in terms of data retrieval.\n",
        "- Lists access data by **index** (position), dictionaries by **key** (name)."
      ]
    },
    {
      "cell_type": "markdown",
      "source": [
        "#  Practical Questions"
      ],
      "metadata": {
        "id": "fnFupqPiaNBl"
      },
      "id": "fnFupqPiaNBl"
    },
    {
      "cell_type": "code",
      "source": [
        "#1 Create a string with your name and print it:\n",
        "name = \"John Doe\"\n",
        "print(name)\n"
      ],
      "metadata": {
        "colab": {
          "base_uri": "https://localhost:8080/"
        },
        "id": "QuMXA0fdZkaN",
        "outputId": "f7bfa650-f14b-4716-f900-fa04228d8a32"
      },
      "id": "QuMXA0fdZkaN",
      "execution_count": 1,
      "outputs": [
        {
          "output_type": "stream",
          "name": "stdout",
          "text": [
            "John Doe\n"
          ]
        }
      ]
    },
    {
      "cell_type": "code",
      "source": [
        "#2 Find the length of the string \"Hello World\":\n",
        "s = \"Hello World\"\n",
        "print(len(s))\n"
      ],
      "metadata": {
        "colab": {
          "base_uri": "https://localhost:8080/"
        },
        "id": "rddp5oEmaoLJ",
        "outputId": "37199448-89f9-4c03-e75d-81d297c700bb"
      },
      "id": "rddp5oEmaoLJ",
      "execution_count": 2,
      "outputs": [
        {
          "output_type": "stream",
          "name": "stdout",
          "text": [
            "11\n"
          ]
        }
      ]
    },
    {
      "cell_type": "code",
      "source": [
        "#3 Slice the first 3 characters from the string \"Python Programming\":\n",
        "\n",
        "s = \"Python Programming\"\n",
        "print(s[:3])\n"
      ],
      "metadata": {
        "colab": {
          "base_uri": "https://localhost:8080/"
        },
        "id": "R81bREJIa0JI",
        "outputId": "6db13390-66a9-479a-fe23-b71f3ee666bc"
      },
      "id": "R81bREJIa0JI",
      "execution_count": 3,
      "outputs": [
        {
          "output_type": "stream",
          "name": "stdout",
          "text": [
            "Pyt\n"
          ]
        }
      ]
    },
    {
      "cell_type": "code",
      "source": [
        "#4 Convert the string \"hello\" to uppercase:\n",
        "s = \"hello\"\n",
        "print(s.upper())\n"
      ],
      "metadata": {
        "colab": {
          "base_uri": "https://localhost:8080/"
        },
        "id": "_2VyRykEa7hJ",
        "outputId": "715e8353-0473-493c-f142-1164281cb183"
      },
      "id": "_2VyRykEa7hJ",
      "execution_count": 4,
      "outputs": [
        {
          "output_type": "stream",
          "name": "stdout",
          "text": [
            "HELLO\n"
          ]
        }
      ]
    },
    {
      "cell_type": "code",
      "source": [
        "#5 Replace the word \"apple\" with \"orange\" in the string \"I like apple\":\n",
        "s = \"I like apple\"\n",
        "print(s.replace(\"apple\", \"orange\"))\n"
      ],
      "metadata": {
        "colab": {
          "base_uri": "https://localhost:8080/"
        },
        "id": "3lI1doU7bCqp",
        "outputId": "5ea14cb8-2b96-4cf4-a395-ba12b11a4ab9"
      },
      "id": "3lI1doU7bCqp",
      "execution_count": 5,
      "outputs": [
        {
          "output_type": "stream",
          "name": "stdout",
          "text": [
            "I like orange\n"
          ]
        }
      ]
    },
    {
      "cell_type": "code",
      "source": [
        "#6 Create a list with numbers 1 to 5 and print it:\n",
        "numbers = [1, 2, 3, 4, 5]\n",
        "print(numbers)\n"
      ],
      "metadata": {
        "colab": {
          "base_uri": "https://localhost:8080/"
        },
        "id": "bGU4hjsobMtF",
        "outputId": "23f1e289-398b-42e8-fb43-0ecc942e049b"
      },
      "id": "bGU4hjsobMtF",
      "execution_count": 6,
      "outputs": [
        {
          "output_type": "stream",
          "name": "stdout",
          "text": [
            "[1, 2, 3, 4, 5]\n"
          ]
        }
      ]
    },
    {
      "cell_type": "code",
      "source": [
        "#7 Append 10 to the list [1, 2, 3, 4]:\n",
        "lst = [1, 2, 3, 4]\n",
        "lst.append(10)\n",
        "print(lst)\n"
      ],
      "metadata": {
        "colab": {
          "base_uri": "https://localhost:8080/"
        },
        "id": "P7MR0v9KbQ7U",
        "outputId": "bf921202-29cc-49b9-9a8d-94d6d6bcfb85"
      },
      "id": "P7MR0v9KbQ7U",
      "execution_count": 7,
      "outputs": [
        {
          "output_type": "stream",
          "name": "stdout",
          "text": [
            "[1, 2, 3, 4, 10]\n"
          ]
        }
      ]
    },
    {
      "cell_type": "code",
      "source": [
        "#8 Remove 3 from the list [1, 2, 3, 4, 5]:\n",
        "lst = [1, 2, 3, 4, 5]\n",
        "lst.remove(3)\n",
        "print(lst)\n"
      ],
      "metadata": {
        "colab": {
          "base_uri": "https://localhost:8080/"
        },
        "id": "O4SE3oRebaI5",
        "outputId": "55b78537-a21e-45b5-c8b2-3e278e964ef0"
      },
      "id": "O4SE3oRebaI5",
      "execution_count": 8,
      "outputs": [
        {
          "output_type": "stream",
          "name": "stdout",
          "text": [
            "[1, 2, 4, 5]\n"
          ]
        }
      ]
    },
    {
      "cell_type": "code",
      "source": [
        "#9 Access the second element in the list ['a', 'b', 'c', 'd']:\n",
        "lst = ['a', 'b', 'c', 'd']\n",
        "print(lst[1])\n"
      ],
      "metadata": {
        "colab": {
          "base_uri": "https://localhost:8080/"
        },
        "id": "cHQHQKsCbgmr",
        "outputId": "ca0ed3d1-060b-4205-b44e-d7edf3bff445"
      },
      "id": "cHQHQKsCbgmr",
      "execution_count": 9,
      "outputs": [
        {
          "output_type": "stream",
          "name": "stdout",
          "text": [
            "b\n"
          ]
        }
      ]
    },
    {
      "cell_type": "code",
      "source": [
        "#10 Reverse the list [10, 20, 30, 40, 50]:\n",
        "lst = [10, 20, 30, 40, 50]\n",
        "lst.reverse()\n",
        "print(lst)\n"
      ],
      "metadata": {
        "colab": {
          "base_uri": "https://localhost:8080/"
        },
        "id": "GnAPYU3sbpeA",
        "outputId": "ec86862a-4d23-4354-922b-2943d37f0571"
      },
      "id": "GnAPYU3sbpeA",
      "execution_count": 10,
      "outputs": [
        {
          "output_type": "stream",
          "name": "stdout",
          "text": [
            "[50, 40, 30, 20, 10]\n"
          ]
        }
      ]
    },
    {
      "cell_type": "code",
      "source": [
        "#11 Create a tuple with the elements 100, 200, 300 and print it:\n",
        "t = (100, 200, 300)\n",
        "print(t)\n"
      ],
      "metadata": {
        "colab": {
          "base_uri": "https://localhost:8080/"
        },
        "id": "0Ab_P_49bxx6",
        "outputId": "0b7b6c0b-eb59-4ab1-be25-5744f2909ecf"
      },
      "id": "0Ab_P_49bxx6",
      "execution_count": 11,
      "outputs": [
        {
          "output_type": "stream",
          "name": "stdout",
          "text": [
            "(100, 200, 300)\n"
          ]
        }
      ]
    },
    {
      "cell_type": "code",
      "source": [
        "#12 Access the second-to-last element of the tuple ('red', 'green', 'blue', 'yellow'):\n",
        "colors = ('red', 'green', 'blue', 'yellow')\n",
        "print(colors[-2])\n"
      ],
      "metadata": {
        "colab": {
          "base_uri": "https://localhost:8080/"
        },
        "id": "M3xWKzuQb6rC",
        "outputId": "98c0cc37-ed11-413b-8b5f-d4e8472aa3f7"
      },
      "id": "M3xWKzuQb6rC",
      "execution_count": 12,
      "outputs": [
        {
          "output_type": "stream",
          "name": "stdout",
          "text": [
            "blue\n"
          ]
        }
      ]
    },
    {
      "cell_type": "code",
      "source": [
        "#13 Find the minimum number in the tuple (10, 20, 5, 15):\n",
        "t = (10, 20, 5, 15)\n",
        "print(min(t))\n"
      ],
      "metadata": {
        "colab": {
          "base_uri": "https://localhost:8080/"
        },
        "id": "WkGH81-Cb-b_",
        "outputId": "4e2bf662-c61c-4cc8-840f-aad5df02353b"
      },
      "id": "WkGH81-Cb-b_",
      "execution_count": 13,
      "outputs": [
        {
          "output_type": "stream",
          "name": "stdout",
          "text": [
            "5\n"
          ]
        }
      ]
    },
    {
      "cell_type": "code",
      "source": [
        "#14 Find the index of the element \"cat\" in the tuple ('dog', 'cat', 'rabbit'):\n",
        "animals = ('dog', 'cat', 'rabbit')\n",
        "print(animals.index('cat'))\n"
      ],
      "metadata": {
        "colab": {
          "base_uri": "https://localhost:8080/"
        },
        "id": "UsnydL1JcHkb",
        "outputId": "b47bd186-c114-444b-b946-ed40fd1b1874"
      },
      "id": "UsnydL1JcHkb",
      "execution_count": 14,
      "outputs": [
        {
          "output_type": "stream",
          "name": "stdout",
          "text": [
            "1\n"
          ]
        }
      ]
    },
    {
      "cell_type": "code",
      "source": [
        "#15 Create a tuple containing three different fruits and check if \"kiwi\" is in it:\n",
        "fruits = ('apple', 'banana', 'mango')\n",
        "print('kiwi' in fruits)\n"
      ],
      "metadata": {
        "colab": {
          "base_uri": "https://localhost:8080/"
        },
        "id": "4VpJbNW_cOMF",
        "outputId": "e21d438c-3463-4fb4-8c14-75c265f429ad"
      },
      "id": "4VpJbNW_cOMF",
      "execution_count": 15,
      "outputs": [
        {
          "output_type": "stream",
          "name": "stdout",
          "text": [
            "False\n"
          ]
        }
      ]
    },
    {
      "cell_type": "code",
      "source": [
        "#16 Create a set with the elements 'a', 'b', 'c' and print it:\n",
        "s = {'a', 'b', 'c'}\n",
        "print(s)\n"
      ],
      "metadata": {
        "colab": {
          "base_uri": "https://localhost:8080/"
        },
        "id": "vbgC-niecSTM",
        "outputId": "8598d326-f4b7-456d-9052-8baa6115ce76"
      },
      "id": "vbgC-niecSTM",
      "execution_count": 16,
      "outputs": [
        {
          "output_type": "stream",
          "name": "stdout",
          "text": [
            "{'a', 'c', 'b'}\n"
          ]
        }
      ]
    },
    {
      "cell_type": "code",
      "source": [
        "#17 Clear all elements from the set {1, 2, 3, 4, 5}:\n",
        "s = {1, 2, 3, 4, 5}\n",
        "s.clear()\n",
        "print(s)\n"
      ],
      "metadata": {
        "colab": {
          "base_uri": "https://localhost:8080/"
        },
        "id": "gc3T2sAQcbz2",
        "outputId": "cd7dfdf0-0fb1-43d4-bca0-6d2209c5f405"
      },
      "id": "gc3T2sAQcbz2",
      "execution_count": 17,
      "outputs": [
        {
          "output_type": "stream",
          "name": "stdout",
          "text": [
            "set()\n"
          ]
        }
      ]
    },
    {
      "cell_type": "code",
      "source": [
        "#18 Remove the element 4 from the set {1, 2, 3, 4}:\n",
        "s = {1, 2, 3, 4}\n",
        "s.remove(4)\n",
        "print(s)\n"
      ],
      "metadata": {
        "colab": {
          "base_uri": "https://localhost:8080/"
        },
        "id": "vjjwa0q5cfoy",
        "outputId": "19856cda-c538-4181-865a-3d462a78d9b7"
      },
      "id": "vjjwa0q5cfoy",
      "execution_count": 18,
      "outputs": [
        {
          "output_type": "stream",
          "name": "stdout",
          "text": [
            "{1, 2, 3}\n"
          ]
        }
      ]
    },
    {
      "cell_type": "code",
      "source": [
        "#19 Find the union of two sets {1, 2, 3} and {3, 4, 5}:\n",
        "a = {1, 2, 3}\n",
        "b = {3, 4, 5}\n",
        "print(a.union(b))\n"
      ],
      "metadata": {
        "colab": {
          "base_uri": "https://localhost:8080/"
        },
        "id": "L06GxX64cogb",
        "outputId": "1016ddd6-b8fd-466e-f124-0c0ae4e874a6"
      },
      "id": "L06GxX64cogb",
      "execution_count": 19,
      "outputs": [
        {
          "output_type": "stream",
          "name": "stdout",
          "text": [
            "{1, 2, 3, 4, 5}\n"
          ]
        }
      ]
    },
    {
      "cell_type": "code",
      "source": [
        "#20 Find the intersection of two sets {1, 2, 3} and {2, 3, 4}:\n",
        "a = {1, 2, 3}\n",
        "b = {2, 3, 4}\n",
        "print(a.intersection(b))\n"
      ],
      "metadata": {
        "colab": {
          "base_uri": "https://localhost:8080/"
        },
        "id": "mOrHwTsKcvmD",
        "outputId": "1f44147b-19a5-4852-a18d-4666cb30b7f2"
      },
      "id": "mOrHwTsKcvmD",
      "execution_count": 20,
      "outputs": [
        {
          "output_type": "stream",
          "name": "stdout",
          "text": [
            "{2, 3}\n"
          ]
        }
      ]
    },
    {
      "cell_type": "code",
      "source": [
        "#21 Create a dictionary with the keys \"name\", \"age\", and \"city\", and print it:\n",
        "person = {'name': 'Alice', 'age': 30, 'city': 'New York'}\n",
        "print(person)\n"
      ],
      "metadata": {
        "colab": {
          "base_uri": "https://localhost:8080/"
        },
        "id": "V4N9d0SLczS6",
        "outputId": "8cadfef3-a705-489d-e344-2e1a1462a339"
      },
      "id": "V4N9d0SLczS6",
      "execution_count": 21,
      "outputs": [
        {
          "output_type": "stream",
          "name": "stdout",
          "text": [
            "{'name': 'Alice', 'age': 30, 'city': 'New York'}\n"
          ]
        }
      ]
    },
    {
      "cell_type": "code",
      "source": [
        "#22 Add a new key-value pair \"country\": \"USA\" to the dictionary {'name': 'John', 'age': 25}:\n",
        "person = {'name': 'John', 'age': 25}\n",
        "person['country'] = 'USA'\n",
        "print(person)\n"
      ],
      "metadata": {
        "colab": {
          "base_uri": "https://localhost:8080/"
        },
        "id": "gZfGrSYVc8sP",
        "outputId": "4efebd01-c823-45f0-f575-f61581262c3c"
      },
      "id": "gZfGrSYVc8sP",
      "execution_count": 22,
      "outputs": [
        {
          "output_type": "stream",
          "name": "stdout",
          "text": [
            "{'name': 'John', 'age': 25, 'country': 'USA'}\n"
          ]
        }
      ]
    },
    {
      "cell_type": "code",
      "source": [
        "#23 Access the value associated with the key \"name\" in the dictionary {'name': 'Alice', 'age': 30}:\n",
        "person = {'name': 'Alice', 'age': 30}\n",
        "print(person['name'])\n"
      ],
      "metadata": {
        "colab": {
          "base_uri": "https://localhost:8080/"
        },
        "id": "Ebc6UasLdBRA",
        "outputId": "baba6f91-c552-41c6-c96c-c3f676b953b9"
      },
      "id": "Ebc6UasLdBRA",
      "execution_count": 23,
      "outputs": [
        {
          "output_type": "stream",
          "name": "stdout",
          "text": [
            "Alice\n"
          ]
        }
      ]
    },
    {
      "cell_type": "code",
      "source": [
        "#24 Remove the key \"age\" from the dictionary {'name': 'Bob', 'age': 22, 'city': 'New York'}:\n",
        "person = {'name': 'Bob', 'age': 22, 'city': 'New York'}\n",
        "person.pop('age')\n",
        "print(person)\n"
      ],
      "metadata": {
        "colab": {
          "base_uri": "https://localhost:8080/"
        },
        "id": "M917B7_TdJvL",
        "outputId": "cf6bc018-bb60-4ea9-d130-13a1e1e08345"
      },
      "id": "M917B7_TdJvL",
      "execution_count": 24,
      "outputs": [
        {
          "output_type": "stream",
          "name": "stdout",
          "text": [
            "{'name': 'Bob', 'city': 'New York'}\n"
          ]
        }
      ]
    },
    {
      "cell_type": "code",
      "source": [
        "#25 Check if the key \"city\" exists in the dictionary {'name': 'Alice', 'city': 'Paris'}:\n",
        "person = {'name': 'Alice', 'city': 'Paris'}\n",
        "print('city' in person)\n"
      ],
      "metadata": {
        "colab": {
          "base_uri": "https://localhost:8080/"
        },
        "id": "D1Zqf9w8dMb1",
        "outputId": "8d06d003-72bd-4a16-b4ec-c047c0dd8cca"
      },
      "id": "D1Zqf9w8dMb1",
      "execution_count": 25,
      "outputs": [
        {
          "output_type": "stream",
          "name": "stdout",
          "text": [
            "True\n"
          ]
        }
      ]
    },
    {
      "cell_type": "code",
      "source": [
        "#26 Create a list, a tuple, and a dictionary, and print them all:\n",
        "lst = [1, 2, 3]\n",
        "tpl = (4, 5, 6)\n",
        "dct = {'a': 7, 'b': 8}\n",
        "print(lst, tpl, dct)\n"
      ],
      "metadata": {
        "colab": {
          "base_uri": "https://localhost:8080/"
        },
        "id": "ihFNpTq7dTYK",
        "outputId": "07e54a04-b042-4cf2-b75f-b3dc18fce54a"
      },
      "id": "ihFNpTq7dTYK",
      "execution_count": 26,
      "outputs": [
        {
          "output_type": "stream",
          "name": "stdout",
          "text": [
            "[1, 2, 3] (4, 5, 6) {'a': 7, 'b': 8}\n"
          ]
        }
      ]
    },
    {
      "cell_type": "code",
      "source": [
        "#27 Create a list of 5 random numbers between 1 and 100, sort it in ascending order, and print it:\n",
        "import random\n",
        "lst = random.sample(range(1, 101), 5)\n",
        "lst.sort()\n",
        "print(lst)\n"
      ],
      "metadata": {
        "colab": {
          "base_uri": "https://localhost:8080/"
        },
        "id": "GPbrJ486dc1h",
        "outputId": "247f1102-5cc2-4588-f460-ec5ccb608fdc"
      },
      "id": "GPbrJ486dc1h",
      "execution_count": 28,
      "outputs": [
        {
          "output_type": "stream",
          "name": "stdout",
          "text": [
            "[2, 28, 52, 65, 73]\n"
          ]
        }
      ]
    },
    {
      "cell_type": "code",
      "source": [
        "#28 Create a list with strings and print the element at the third index:\n",
        "lst = ['apple', 'banana', 'cherry', 'date', 'elderberry']\n",
        "print(lst[3])\n"
      ],
      "metadata": {
        "colab": {
          "base_uri": "https://localhost:8080/"
        },
        "id": "WYsFvUGpdqA2",
        "outputId": "2a7a17e1-c77a-440a-e4cd-200e0aa2f045"
      },
      "id": "WYsFvUGpdqA2",
      "execution_count": 29,
      "outputs": [
        {
          "output_type": "stream",
          "name": "stdout",
          "text": [
            "date\n"
          ]
        }
      ]
    },
    {
      "cell_type": "code",
      "source": [
        "#29 Combine two dictionaries into one and print the result:\n",
        "d1 = {'a': 1}\n",
        "d2 = {'b': 2}\n",
        "d1.update(d2)\n",
        "print(d1)\n"
      ],
      "metadata": {
        "colab": {
          "base_uri": "https://localhost:8080/"
        },
        "id": "YHVnjAJJd0U9",
        "outputId": "c376af4b-f820-4959-ce45-4eb9665197b2"
      },
      "id": "YHVnjAJJd0U9",
      "execution_count": 30,
      "outputs": [
        {
          "output_type": "stream",
          "name": "stdout",
          "text": [
            "{'a': 1, 'b': 2}\n"
          ]
        }
      ]
    },
    {
      "cell_type": "code",
      "source": [
        "#30 Convert a list of strings into a set:\n",
        "lst = ['apple', 'banana', 'apple']\n",
        "s = set(lst)\n",
        "print(s)\n"
      ],
      "metadata": {
        "colab": {
          "base_uri": "https://localhost:8080/"
        },
        "id": "FSjipyXld32Q",
        "outputId": "8d07ef21-6e42-4ff5-be7e-7606429c9308"
      },
      "id": "FSjipyXld32Q",
      "execution_count": 31,
      "outputs": [
        {
          "output_type": "stream",
          "name": "stdout",
          "text": [
            "{'banana', 'apple'}\n"
          ]
        }
      ]
    }
  ],
  "metadata": {
    "colab": {
      "provenance": []
    },
    "language_info": {
      "name": "python"
    },
    "kernelspec": {
      "name": "python3",
      "display_name": "Python 3"
    }
  },
  "nbformat": 4,
  "nbformat_minor": 5
}